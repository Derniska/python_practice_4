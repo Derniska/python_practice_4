{
 "cells": [
  {
   "cell_type": "code",
   "execution_count": 125,
   "id": "8a91b322-8218-42f8-b976-af58108868de",
   "metadata": {},
   "outputs": [],
   "source": [
    "def find_two_smallest(my_list):\n",
    "    sorted_list = sorted(my_list, reverse = False)[:2]\n",
    "    if sorted_list[0] == sorted_list[1]:\n",
    "        sorted_list.pop(0)\n",
    "    return sorted_list"
   ]
  },
  {
   "cell_type": "code",
   "execution_count": 126,
   "id": "a28c6b49-3335-47ce-be84-c73e2636ae57",
   "metadata": {
    "tags": []
   },
   "outputs": [
    {
     "name": "stdout",
     "output_type": "stream",
     "text": [
      "[5, 24]\n"
     ]
    }
   ],
   "source": [
    "my_list = [51, 47, 89, 24, 5]\n",
    "new_list = find_two_smallest(my_list)\n",
    "print(new_list)"
   ]
  },
  {
   "cell_type": "code",
   "execution_count": 118,
   "id": "0a6a4ba4-13c4-4576-9a88-7543c8399c62",
   "metadata": {
    "tags": []
   },
   "outputs": [],
   "source": [
    "import random\n",
    "random.seed(42)\n",
    "def get_lists():\n",
    "    n = int(input('How many lists do you need? '))\n",
    "    q = int(input('How many integers do you want there to be in each list?'))\n",
    "    my_list = {}\n",
    "    for i in range(n):\n",
    "        my_list[f'list_{i+1}'] = random.sample(range(100), k = q)\n",
    "    return my_list"
   ]
  },
  {
   "cell_type": "code",
   "execution_count": 119,
   "id": "fdae608b-f158-40f4-8ff5-b420b875241a",
   "metadata": {
    "tags": []
   },
   "outputs": [],
   "source": [
    "def get_two_smallest(my_dict):\n",
    "    variables = {}\n",
    "    for key in my_dict.keys():\n",
    "        variables[f'nums{i+1}'] = find_two_smallest(my_dict[key])\n",
    "    return variables"
   ]
  },
  {
   "cell_type": "code",
   "execution_count": 121,
   "id": "df51bb80-44ac-40a8-9b1f-16e6225fae90",
   "metadata": {
    "tags": []
   },
   "outputs": [
    {
     "name": "stdin",
     "output_type": "stream",
     "text": [
      "How many lists do you need?  5\n",
      "How many integers do you want there to be in each list? 7\n"
     ]
    }
   ],
   "source": [
    "my_list = get_lists()"
   ]
  },
  {
   "cell_type": "code",
   "execution_count": 124,
   "id": "66e293e0-52d9-4090-a9d3-9337df74d8ff",
   "metadata": {
    "tags": []
   },
   "outputs": [
    {
     "data": {
      "text/plain": [
       "[17, 24]"
      ]
     },
     "execution_count": 124,
     "metadata": {},
     "output_type": "execute_result"
    }
   ],
   "source": [
    "my_list = [48, 32, 17, 24]\n",
    "sorted(my_list, reverse = False)[:2]"
   ]
  },
  {
   "cell_type": "code",
   "execution_count": 123,
   "id": "42f1f2b1-d158-401a-a1cb-5b37e33259dd",
   "metadata": {
    "tags": []
   },
   "outputs": [
    {
     "name": "stdout",
     "output_type": "stream",
     "text": [
      "{'list_1': [20, 35], 'list_2': [26, 34], 'list_3': [9, 21], 'list_4': [20, 34], 'list_5': [7, 28]}\n"
     ]
    }
   ],
   "source": [
    "vars = {}\n",
    "for i, key in enumerate(my_list.keys()):\n",
    "    vars[f'list_{i+1}'] = find_two_smallest(my_list[key])\n",
    "print(vars)"
   ]
  },
  {
   "cell_type": "code",
   "execution_count": 106,
   "id": "f969abf9-762c-467f-85ca-cb352da81e97",
   "metadata": {
    "tags": []
   },
   "outputs": [],
   "source": [
    "with open('result.txt', 'w') as file:\n",
    "    for key in vars.keys():\n",
    "        file.write(f'The smallest numbers in the {key} are {vars[key]}\\n')\n",
    "    "
   ]
  },
  {
   "cell_type": "code",
   "execution_count": null,
   "id": "30f13b7d-4c86-4a9f-95a9-bf570676ace0",
   "metadata": {},
   "outputs": [],
   "source": [
    "class Book():\n",
    "    def __init__(self, title, author, year, price, stoplist, pages, rating):\n",
    "        self.title = title\n",
    "        self.author = author\n",
    "        self.year = year\n",
    "        self.price = price\n",
    "        self.stoplist = stoplist\n",
    "        self.pages = pages\n",
    "        self.rating = rating\n",
    "    def get_info(self):\n",
    "        print(f'Title: {self.title}\\nAuthor: {self.author}\\nYear: {self.year}\\n\n",
    "        Price: {self.price}\\nStoplist: {self.stoplist}\\nPages: {self.pages}\\nRating: {self.rating}')\n",
    "    def get_the_oldesd()"
   ]
  }
 ],
 "metadata": {
  "kernelspec": {
   "display_name": "Python 3 (ipykernel)",
   "language": "python",
   "name": "python3"
  },
  "language_info": {
   "codemirror_mode": {
    "name": "ipython",
    "version": 3
   },
   "file_extension": ".py",
   "mimetype": "text/x-python",
   "name": "python",
   "nbconvert_exporter": "python",
   "pygments_lexer": "ipython3",
   "version": "3.10.9"
  }
 },
 "nbformat": 4,
 "nbformat_minor": 5
}
