{
 "cells": [
  {
   "cell_type": "code",
   "execution_count": 127,
   "id": "8a91b322-8218-42f8-b976-af58108868de",
   "metadata": {},
   "outputs": [],
   "source": [
    "def find_two_smallest(my_list):\n",
    "    sorted_list = sorted(my_list, reverse = False)[:2]\n",
    "    if sorted_list[0] == sorted_list[1]:\n",
    "        sorted_list.pop(0)\n",
    "    return sorted_list"
   ]
  },
  {
   "cell_type": "code",
   "execution_count": 128,
   "id": "a28c6b49-3335-47ce-be84-c73e2636ae57",
   "metadata": {
    "tags": []
   },
   "outputs": [
    {
     "name": "stdout",
     "output_type": "stream",
     "text": [
      "[5, 24]\n"
     ]
    }
   ],
   "source": [
    "my_list = [51, 47, 89, 24, 5]\n",
    "new_list = find_two_smallest(my_list)\n",
    "print(new_list)"
   ]
  },
  {
   "cell_type": "code",
   "execution_count": 129,
   "id": "0a6a4ba4-13c4-4576-9a88-7543c8399c62",
   "metadata": {
    "tags": []
   },
   "outputs": [],
   "source": [
    "import random\n",
    "random.seed(42)\n",
    "def get_lists():\n",
    "    n = int(input('How many lists do you need? '))\n",
    "    q = int(input('How many integers do you want there to be in each list?'))\n",
    "    my_list = {}\n",
    "    for i in range(n):\n",
    "        my_list[f'list_{i+1}'] = random.sample(range(100), k = q)\n",
    "    return my_list"
   ]
  },
  {
   "cell_type": "code",
   "execution_count": 130,
   "id": "fdae608b-f158-40f4-8ff5-b420b875241a",
   "metadata": {
    "tags": []
   },
   "outputs": [],
   "source": [
    "def get_two_smallest(my_dict):\n",
    "    variables = {}\n",
    "    for key in my_dict.keys():\n",
    "        variables[f'nums{i+1}'] = find_two_smallest(my_dict[key])\n",
    "    return variables"
   ]
  },
  {
   "cell_type": "code",
   "execution_count": 131,
   "id": "df51bb80-44ac-40a8-9b1f-16e6225fae90",
   "metadata": {
    "tags": []
   },
   "outputs": [
    {
     "name": "stdin",
     "output_type": "stream",
     "text": [
      "How many lists do you need?  5\n",
      "How many integers do you want there to be in each list? \n"
     ]
    },
    {
     "ename": "ValueError",
     "evalue": "invalid literal for int() with base 10: ''",
     "output_type": "error",
     "traceback": [
      "\u001b[0;31m---------------------------------------------------------------------------\u001b[0m",
      "\u001b[0;31mValueError\u001b[0m                                Traceback (most recent call last)",
      "Cell \u001b[0;32mIn[131], line 1\u001b[0m\n\u001b[0;32m----> 1\u001b[0m my_list \u001b[38;5;241m=\u001b[39m \u001b[43mget_lists\u001b[49m\u001b[43m(\u001b[49m\u001b[43m)\u001b[49m\n",
      "Cell \u001b[0;32mIn[129], line 5\u001b[0m, in \u001b[0;36mget_lists\u001b[0;34m()\u001b[0m\n\u001b[1;32m      3\u001b[0m \u001b[38;5;28;01mdef\u001b[39;00m \u001b[38;5;21mget_lists\u001b[39m():\n\u001b[1;32m      4\u001b[0m     n \u001b[38;5;241m=\u001b[39m \u001b[38;5;28mint\u001b[39m(\u001b[38;5;28minput\u001b[39m(\u001b[38;5;124m'\u001b[39m\u001b[38;5;124mHow many lists do you need? \u001b[39m\u001b[38;5;124m'\u001b[39m))\n\u001b[0;32m----> 5\u001b[0m     q \u001b[38;5;241m=\u001b[39m \u001b[38;5;28;43mint\u001b[39;49m\u001b[43m(\u001b[49m\u001b[38;5;28;43minput\u001b[39;49m\u001b[43m(\u001b[49m\u001b[38;5;124;43m'\u001b[39;49m\u001b[38;5;124;43mHow many integers do you want there to be in each list?\u001b[39;49m\u001b[38;5;124;43m'\u001b[39;49m\u001b[43m)\u001b[49m\u001b[43m)\u001b[49m\n\u001b[1;32m      6\u001b[0m     my_list \u001b[38;5;241m=\u001b[39m {}\n\u001b[1;32m      7\u001b[0m     \u001b[38;5;28;01mfor\u001b[39;00m i \u001b[38;5;129;01min\u001b[39;00m \u001b[38;5;28mrange\u001b[39m(n):\n",
      "\u001b[0;31mValueError\u001b[0m: invalid literal for int() with base 10: ''"
     ]
    }
   ],
   "source": [
    "my_list = get_lists()"
   ]
  },
  {
   "cell_type": "code",
   "execution_count": 124,
   "id": "66e293e0-52d9-4090-a9d3-9337df74d8ff",
   "metadata": {
    "tags": []
   },
   "outputs": [
    {
     "data": {
      "text/plain": [
       "[17, 24]"
      ]
     },
     "execution_count": 124,
     "metadata": {},
     "output_type": "execute_result"
    }
   ],
   "source": [
    "my_list = [48, 32, 17, 24]\n",
    "sorted(my_list, reverse = False)[:2]"
   ]
  },
  {
   "cell_type": "code",
   "execution_count": 123,
   "id": "42f1f2b1-d158-401a-a1cb-5b37e33259dd",
   "metadata": {
    "tags": []
   },
   "outputs": [
    {
     "name": "stdout",
     "output_type": "stream",
     "text": [
      "{'list_1': [20, 35], 'list_2': [26, 34], 'list_3': [9, 21], 'list_4': [20, 34], 'list_5': [7, 28]}\n"
     ]
    }
   ],
   "source": [
    "vars = {}\n",
    "for i, key in enumerate(my_list.keys()):\n",
    "    vars[f'list_{i+1}'] = find_two_smallest(my_list[key])\n",
    "print(vars)"
   ]
  },
  {
   "cell_type": "code",
   "execution_count": 106,
   "id": "f969abf9-762c-467f-85ca-cb352da81e97",
   "metadata": {
    "tags": []
   },
   "outputs": [],
   "source": [
    "with open('result.txt', 'w') as file:\n",
    "    for key in vars.keys():\n",
    "        file.write(f'The smallest numbers in the {key} are {vars[key]}\\n')\n",
    "    "
   ]
  },
  {
   "cell_type": "code",
   "execution_count": 250,
   "id": "30f13b7d-4c86-4a9f-95a9-bf570676ace0",
   "metadata": {},
   "outputs": [],
   "source": [
    "class Book():\n",
    "    def __init__(self, title, author, year, price, pages, rating, reviews ):\n",
    "        self.title = title\n",
    "        self.author = author\n",
    "        self.year = year\n",
    "        self.price = price\n",
    "        self.stoplist = False\n",
    "        self.pages = pages\n",
    "        self.rating = rating\n",
    "        self.reviews = reviews\n",
    "    def get_info(self):\n",
    "        print(f'Title: {self.title}\\nAuthor: {self.author}\\nYear: {self.year}\\nPrice: {self.price}\\nStoplist: {self.stoplist}\\nPages: {self.pages}\\nRating: {self.rating}\\n')\n",
    "    \n",
    "    def set_stoplist(self, stoplist_value):\n",
    "        if isinstance(stoplist_value, bool):\n",
    "            self.stoplist = stoplist_value\n",
    "        else:\n",
    "            raise ValueError('Please, input the boolean variable')\n",
    "        \n",
    "    def censor(self):\n",
    "        author = input('Enter the author name: ')\n",
    "        stop_list_value = bool(input('Enter the value True or False: '))\n",
    "        if author == self.author:\n",
    "            self.stoplist = stop_list_value\n",
    "        else: \n",
    "            self.stoplist = not stop_list_value\n",
    "        print(f'The stoplist value is {self.stoplist}')\n",
    "        \n",
    "    @classmethod\n",
    "    def print_expensive(cls, books):\n",
    "        ex_book = max(books, key = lambda x: x.price)\n",
    "        # return ex_book.title\n",
    "        print(f'The most expensive book is {ex_book.title} by {ex_book.author}\\nIts price is ${ex_book.price}')\n",
    "    @classmethod\n",
    "    def find_h_and_l_rating(cls,books):\n",
    "        b_book = max(books, key = lambda x: x.rating)\n",
    "        w_book = min(books, key = lambda x: x.rating)\n",
    "        print(f'Book with the highest rating is \"{b_book.title}\". Its rating is {b_book.rating}')\n",
    "        print(f'Book with the lowest rating is \"{w_book.title}\". Its rating is {w_book.rating}')\n",
    "    @classmethod\n",
    "    def get_longest(cls, books):\n",
    "        l_book = max(books, key = lambda x: x.pages)\n",
    "        print(f'The longest book is \"{l_book.title}\". It is {l_book.pages} long')\n",
    "    @classmethod\n",
    "    def get_most_reviewed(cls, books):\n",
    "        r_book = max(books, key = lambda x: x.reviews)\n",
    "        print(f'The most reviewed book is {r_book.tile}. It has {r_book.reviews} reviews')"
   ]
  },
  {
   "cell_type": "code",
   "execution_count": 251,
   "id": "ee0b3470-e4be-42d5-bcd8-868c8e824e90",
   "metadata": {
    "tags": []
   },
   "outputs": [],
   "source": [
    "book1 = Book('The secret history', 'Donna Tart', 1993, 9.54, 503, 4.3, 818266)\n",
    "book2 = Book('Harry Portter and the Deathly Hallows','Joanne Rowling', 2007, 14.85, 640, 4.9, 3821354)\n",
    "book3 = Book('Normal People', 'Sally Rooney', 2018, 3.04, 288, 4.3, 1521531)\n",
    "book4 = Book('The Mixer: The Story of Premier League Tactics, from Route One to False Nines',\n",
    "           'Michael Cox', 2017, 11.45,571, 4.39, 4851)\n",
    "\n",
    "books = [book1, book2, book3, book4]"
   ]
  },
  {
   "cell_type": "code",
   "execution_count": 231,
   "id": "23f869da-6653-4994-8133-a2ec2308f738",
   "metadata": {
    "tags": []
   },
   "outputs": [
    {
     "name": "stdout",
     "output_type": "stream",
     "text": [
      "The most expensive book is Harry Portter and the Deathly Hallows by Joanne Rowling\n",
      "Its price is $14.85\n"
     ]
    }
   ],
   "source": [
    "Book.print_the_oldest(books)"
   ]
  },
  {
   "cell_type": "code",
   "execution_count": 228,
   "id": "0e22c9c2-87eb-4570-bdf2-df243164647a",
   "metadata": {
    "tags": []
   },
   "outputs": [
    {
     "name": "stdout",
     "output_type": "stream",
     "text": [
      "Title: The secret history\n",
      "Author: Donna Tart\n",
      "Year: 1993\n",
      "Price: 9.54\n",
      "Stoplist: False\n",
      "Pages: 503\n",
      "Rating: 4.3\n",
      "\n",
      "Title: Harry Portter and the Deathly Hallows\n",
      "Author: Joanne Rowling\n",
      "Year: 2007\n",
      "Price: 14.85\n",
      "Stoplist: False\n",
      "Pages: 640\n",
      "Rating: 4.9\n",
      "\n",
      "Title: Normal People\n",
      "Author: Sally Rooney\n",
      "Year: 2018\n",
      "Price: 3.04\n",
      "Stoplist: False\n",
      "Pages: 288\n",
      "Rating: 4.3\n",
      "\n",
      "Title: The Mixer: The Story of Premier League Tactics, from Route One to False Nines\n",
      "Author: Michael Cox\n",
      "Year: 2017\n",
      "Price: 11.45\n",
      "Stoplist: False\n",
      "Pages: 571\n",
      "Rating: 4.39\n",
      "\n"
     ]
    }
   ],
   "source": [
    "for book in books:\n",
    "    book.get_info()"
   ]
  },
  {
   "cell_type": "code",
   "execution_count": 257,
   "id": "217b98ea-749f-43a3-9c87-5074bbf3b2f9",
   "metadata": {
    "tags": []
   },
   "outputs": [
    {
     "name": "stdin",
     "output_type": "stream",
     "text": [
      "Enter the author name:  donna\n",
      "Enter the value True or False:  True\n"
     ]
    },
    {
     "name": "stdout",
     "output_type": "stream",
     "text": [
      "The stoplist value is True\n"
     ]
    }
   ],
   "source": [
    "book1.censor()"
   ]
  },
  {
   "cell_type": "code",
   "execution_count": 221,
   "id": "009c24a8-eefe-4b8f-943a-a95865a0c253",
   "metadata": {
    "tags": []
   },
   "outputs": [
    {
     "name": "stdout",
     "output_type": "stream",
     "text": [
      "Book with the highest rating is \"Harry Portter and the Deathly Hallows\". Its rating is 4.9\n",
      "Book with the lowest rating is \"The secret history\". Its rating is 4.3\n"
     ]
    }
   ],
   "source": [
    "Book.find_h_and_l_rating(books)"
   ]
  },
  {
   "cell_type": "code",
   "execution_count": 233,
   "id": "9544d9fc-1ea9-46c0-8ca2-67e2053aadd9",
   "metadata": {
    "tags": []
   },
   "outputs": [
    {
     "name": "stdin",
     "output_type": "stream",
     "text": [
      "Please select one of the options:\n",
      " 1: Get the info about the books\n",
      "2: Find the most expensive book                       \n",
      "3:Find the book with the highest and lowest rating\n",
      "4: Find the longest book                       \n",
      "5: Find the most reviewe book\n",
      "6: Check the author 6\n"
     ]
    }
   ],
   "source": [
    "num_choise = int(input('Please select one of the options:\\n 1: Get the info about the books\\n2: Find the most expensive book \\\n",
    "                      \\n3:Find the book with the highest and lowest rating\\n4: Find the longest book \\\n",
    "                      \\n5: Find the most reviewe book\\n6: Check the author'))"
   ]
  },
  {
   "cell_type": "code",
   "execution_count": 256,
   "id": "1776a94d-5686-4135-b177-0bbc23775902",
   "metadata": {
    "tags": []
   },
   "outputs": [
    {
     "data": {
      "text/plain": [
       "True"
      ]
     },
     "execution_count": 256,
     "metadata": {},
     "output_type": "execute_result"
    }
   ],
   "source": [
    "bool('afdafd')"
   ]
  },
  {
   "cell_type": "code",
   "execution_count": null,
   "id": "e36bddf2-4f31-41eb-b740-6e4e0926cd79",
   "metadata": {},
   "outputs": [],
   "source": []
  }
 ],
 "metadata": {
  "kernelspec": {
   "display_name": "Python 3 (ipykernel)",
   "language": "python",
   "name": "python3"
  },
  "language_info": {
   "codemirror_mode": {
    "name": "ipython",
    "version": 3
   },
   "file_extension": ".py",
   "mimetype": "text/x-python",
   "name": "python",
   "nbconvert_exporter": "python",
   "pygments_lexer": "ipython3",
   "version": "3.10.9"
  }
 },
 "nbformat": 4,
 "nbformat_minor": 5
}
